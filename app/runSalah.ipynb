{
 "cells": [
  {
   "cell_type": "code",
   "execution_count": 1,
   "metadata": {},
   "outputs": [
    {
     "name": "stdout",
     "output_type": "stream",
     "text": [
      "Requirement already satisfied: flask in c:\\users\\utilisateur2\\anaconda3\\envs\\devprojet_fraud\\lib\\site-packages (3.0.2)\n",
      "Requirement already satisfied: Werkzeug>=3.0.0 in c:\\users\\utilisateur2\\anaconda3\\envs\\devprojet_fraud\\lib\\site-packages (from flask) (3.0.1)\n",
      "Requirement already satisfied: Jinja2>=3.1.2 in c:\\users\\utilisateur2\\anaconda3\\envs\\devprojet_fraud\\lib\\site-packages (from flask) (3.1.2)\n",
      "Requirement already satisfied: itsdangerous>=2.1.2 in c:\\users\\utilisateur2\\anaconda3\\envs\\devprojet_fraud\\lib\\site-packages (from flask) (2.1.2)\n",
      "Requirement already satisfied: click>=8.1.3 in c:\\users\\utilisateur2\\anaconda3\\envs\\devprojet_fraud\\lib\\site-packages (from flask) (8.1.7)\n",
      "Requirement already satisfied: blinker>=1.6.2 in c:\\users\\utilisateur2\\anaconda3\\envs\\devprojet_fraud\\lib\\site-packages (from flask) (1.7.0)\n",
      "Requirement already satisfied: colorama in c:\\users\\utilisateur2\\anaconda3\\envs\\devprojet_fraud\\lib\\site-packages (from click>=8.1.3->flask) (0.4.6)\n",
      "Requirement already satisfied: MarkupSafe>=2.0 in c:\\users\\utilisateur2\\anaconda3\\envs\\devprojet_fraud\\lib\\site-packages (from Jinja2>=3.1.2->flask) (2.1.3)\n",
      "Note: you may need to restart the kernel to use updated packages.\n"
     ]
    }
   ],
   "source": [
    "pip install flask"
   ]
  },
  {
   "cell_type": "code",
   "execution_count": 1,
   "metadata": {},
   "outputs": [],
   "source": [
    "import flask\n",
    "from flask import Flask, render_template, request, redirect, url_for,flash\n",
    "import mysql.connector as msql\n",
    "from mysql.connector import Error\n"
   ]
  },
  {
   "cell_type": "code",
   "execution_count": 2,
   "metadata": {},
   "outputs": [],
   "source": [
    "app = Flask(__name__)\n",
    "\n",
    "# Configuration de la connexion à MySQL\n",
    "config_bdd = {\n",
    "    'host': 'localhost',\n",
    "    'user': 'root',\n",
    "    'password': 'admin',\n",
    "    'database': 'projet_fraudedb'\n",
    "}\n",
    "\n",
    "# pour client et opérateur:Fonction pour valider les identifiants de l'utilisateur dans bdd\n",
    "def valider_utilisateur(nom_utilisateur, mot_de_passe):\n",
    "    try:\n",
    "        conn = msql.connect(**config_bdd)\n",
    "        curseur = conn.cursor()\n",
    "        requete = \"SELECT email, pass, role FROM utilisateur WHERE email = %s AND pass = %s\"\n",
    "        curseur.execute(requete, (nom_utilisateur, mot_de_passe))\n",
    "        utilisateur = curseur.fetchone()\n",
    "        curseur.close()\n",
    "        conn.close()\n",
    "        return utilisateur\n",
    "    except Error as err:\n",
    "        print(f\"Erreur : {err}\")\n",
    "        return None\n",
    "\n",
    "    \n",
    "# seulement pour client:Fonction pour creer (ou maj password) les identifiants de l'utilisateur dans bdd\n",
    "def creer_utilisateur(nom_utilisateur, mot_de_passe,role):\n",
    "    try:\n",
    "        conn = msql.connect(**config_bdd)\n",
    "        cursor = conn.cursor()\n",
    "\n",
    "        # Vérifier si l'utilisateur existe\n",
    "        requete_utilisateur = \"SELECT email, pass, role FROM utilisateur WHERE email = %s\"\n",
    "        cursor.execute(requete_utilisateur, (nom_utilisateur,))\n",
    "        existe_utilisateur = cursor.fetchone()\n",
    "\n",
    "        if existe_utilisateur:\n",
    "            # L'utilisateur existe mettre à jour le mot de passe\n",
    "            maj_requete = \"UPDATE utilisateur SET pass= %s WHERE email = %s\"\n",
    "            cursor.execute(maj_requete, (mot_de_passe, nom_utilisateur))\n",
    "        else:\n",
    "            # L'utilisateur n'existe pas: le créer\n",
    "            insertion_requete = \"INSERT INTO utilisateur (email, pass,role) VALUES (%s, %s,%s)\"\n",
    "            cursor.execute(insertion_requete, (nom_utilisateur, mot_de_passe,role))\n",
    "\n",
    "        conn.commit()\n",
    "        cursor.close()\n",
    "        conn.close()\n",
    "        return True\n",
    "    except Error as err:\n",
    "        print(f\"Erreur : {err}\")\n",
    "        return False\n",
    "\n",
    "\n"
   ]
  },
  {
   "cell_type": "code",
   "execution_count": 3,
   "metadata": {},
   "outputs": [],
   "source": [
    "# Insérer la ligne admin@moneyshied.fr, admin, operateur s'il n'existe pas\n",
    "if not valider_utilisateur('admin@moneyshield.fr', 'admin'):\n",
    "    creer_utilisateur('admin@moneyshield.fr', 'admin', 'operateur')"
   ]
  },
  {
   "cell_type": "code",
   "execution_count": 12,
   "metadata": {},
   "outputs": [
    {
     "data": {
      "text/plain": [
       "True"
      ]
     },
     "execution_count": 12,
     "metadata": {},
     "output_type": "execute_result"
    }
   ],
   "source": [
    "creer_utilisateur('admin@moneyshield.fr', 'admin', 'operateur')"
   ]
  },
  {
   "cell_type": "code",
   "execution_count": null,
   "metadata": {},
   "outputs": [],
   "source": [
    "@app.route('/acceuil', methods=['GET'])\n",
    "def acceuil():\n",
    "    return render_template('indexSalah.html')\n",
    "\n",
    "@app.route('/connexion', methods=['POST'])\n",
    "# formulaire operateur(connexion)/client(connexion-inscription) \n",
    "def connexion():\n",
    "    if request.form['validation']=='connexion': # client/operateur en mode connexion \n",
    "        nom_utilisateur = request.form['email']\n",
    "        mot_de_passe = request.form['password']\n",
    "\n",
    "        utilisateur = valider_utilisateur(nom_utilisateur, mot_de_passe)\n",
    "\n",
    "        if utilisateur:\n",
    "            # Identifiants valides, rediriger en fonction du rôle\n",
    "            if utilisateur[2] == 'operateur': #test du role operateur pour identification pour renvoyer sur  prediction\n",
    "                return render_template('prediction.html')\n",
    "            else:                             #test du role client pour identification pour renvoyer sur  transaction\n",
    "                return render_template('transaction.html',nom_utilisateur)\n",
    "        else:\n",
    "            # Identifiants invalides=> index avec message erreur\n",
    "            flash(\"Identifiants invalides. Veuillez réessayer.\")\n",
    "            return render_template('indexSalah.html')\n",
    "        \n",
    "    else:  # si ce n'est pas une connexion alors client en mode creation\n",
    "        nom_utilisateur = request.form['email']\n",
    "        mot_de_passe = request.form['password']\n",
    "\n",
    "        utilisateur = creer_utilisateur(nom_utilisateur, mot_de_passe)\n",
    "\n",
    "        if utilisateur:\n",
    "            # creation client et Identifiant valide \n",
    "            return render_template('transaction.html',nom_utilisateur)\n",
    "        else:\n",
    "            # creation invalide=> index avec message erreur\n",
    "            flash(\"Problème création client. Veuillez réessayer\")\n",
    "            return render_template('indexSalah.html') \n",
    "        \n",
    "if __name__ == '__main__':\n",
    "    app.run(debug=True)     "
   ]
  },
  {
   "cell_type": "code",
   "execution_count": null,
   "metadata": {},
   "outputs": [],
   "source": [
    "#pour test"
   ]
  },
  {
   "cell_type": "code",
   "execution_count": 4,
   "metadata": {},
   "outputs": [
    {
     "name": "stdout",
     "output_type": "stream",
     "text": [
      " * Serving Flask app '__main__'\n",
      " * Debug mode: on\n"
     ]
    },
    {
     "name": "stderr",
     "output_type": "stream",
     "text": [
      "WARNING: This is a development server. Do not use it in a production deployment. Use a production WSGI server instead.\n",
      " * Running on http://127.0.0.1:5002\n",
      "Press CTRL+C to quit\n",
      " * Restarting with stat\n"
     ]
    },
    {
     "ename": "SystemExit",
     "evalue": "1",
     "output_type": "error",
     "traceback": [
      "An exception has occurred, use %tb to see the full traceback.\n",
      "\u001b[1;31mSystemExit\u001b[0m\u001b[1;31m:\u001b[0m 1\n"
     ]
    }
   ],
   "source": [
    "\n",
    "import flask\n",
    "from flask import Flask, render_template, request, redirect, url_for,flash\n",
    "import mysql.connector as msql\n",
    "from mysql.connector import Error\n",
    "\n",
    "app = Flask(__name__)\n",
    "@app.route('/', methods=['GET'])\n",
    "def acceuil():\n",
    "    return render_template('indexSalah.html')\n",
    "\n",
    "\n",
    "        \n",
    "if __name__ == '__main__':\n",
    "    app.run(debug=True, port=5002)     "
   ]
  },
  {
   "cell_type": "code",
   "execution_count": 5,
   "metadata": {},
   "outputs": [
    {
     "ename": "SystemExit",
     "evalue": "1",
     "output_type": "error",
     "traceback": [
      "\u001b[1;31m---------------------------------------------------------------------------\u001b[0m",
      "\u001b[1;31mSystemExit\u001b[0m                                Traceback (most recent call last)",
      "Cell \u001b[1;32mIn[4], line 14\u001b[0m\n\u001b[0;32m      9\u001b[0m     \u001b[38;5;28;01mreturn\u001b[39;00m render_template(\u001b[38;5;124m'\u001b[39m\u001b[38;5;124mindexSalah.html\u001b[39m\u001b[38;5;124m'\u001b[39m)\n\u001b[0;32m     13\u001b[0m \u001b[38;5;28;01mif\u001b[39;00m \u001b[38;5;18m__name__\u001b[39m \u001b[38;5;241m==\u001b[39m \u001b[38;5;124m'\u001b[39m\u001b[38;5;124m__main__\u001b[39m\u001b[38;5;124m'\u001b[39m:\n\u001b[1;32m---> 14\u001b[0m     \u001b[43mapp\u001b[49m\u001b[38;5;241;43m.\u001b[39;49m\u001b[43mrun\u001b[49m\u001b[43m(\u001b[49m\u001b[43mdebug\u001b[49m\u001b[38;5;241;43m=\u001b[39;49m\u001b[38;5;28;43;01mTrue\u001b[39;49;00m\u001b[43m,\u001b[49m\u001b[43m \u001b[49m\u001b[43mport\u001b[49m\u001b[38;5;241;43m=\u001b[39;49m\u001b[38;5;241;43m5002\u001b[39;49m\u001b[43m)\u001b[49m\n",
      "File \u001b[1;32mc:\\Users\\Utilisateur2\\anaconda3\\envs\\devProjet_Fraud\\lib\\site-packages\\flask\\app.py:615\u001b[0m, in \u001b[0;36mFlask.run\u001b[1;34m(self, host, port, debug, load_dotenv, **options)\u001b[0m\n\u001b[0;32m    612\u001b[0m \u001b[38;5;28;01mfrom\u001b[39;00m \u001b[38;5;21;01mwerkzeug\u001b[39;00m\u001b[38;5;21;01m.\u001b[39;00m\u001b[38;5;21;01mserving\u001b[39;00m \u001b[38;5;28;01mimport\u001b[39;00m run_simple\n\u001b[0;32m    614\u001b[0m \u001b[38;5;28;01mtry\u001b[39;00m:\n\u001b[1;32m--> 615\u001b[0m     run_simple(t\u001b[38;5;241m.\u001b[39mcast(\u001b[38;5;28mstr\u001b[39m, host), port, \u001b[38;5;28mself\u001b[39m, \u001b[38;5;241m*\u001b[39m\u001b[38;5;241m*\u001b[39moptions)\n\u001b[0;32m    616\u001b[0m \u001b[38;5;28;01mfinally\u001b[39;00m:\n\u001b[0;32m    617\u001b[0m     \u001b[38;5;66;03m# reset the first request information if the development server\u001b[39;00m\n\u001b[0;32m    618\u001b[0m     \u001b[38;5;66;03m# reset normally.  This makes it possible to restart the server\u001b[39;00m\n\u001b[0;32m    619\u001b[0m     \u001b[38;5;66;03m# without reloader and that stuff from an interactive shell.\u001b[39;00m\n\u001b[0;32m    620\u001b[0m     \u001b[38;5;28mself\u001b[39m\u001b[38;5;241m.\u001b[39m_got_first_request \u001b[38;5;241m=\u001b[39m \u001b[38;5;28;01mFalse\u001b[39;00m\n",
      "File \u001b[1;32mc:\\Users\\Utilisateur2\\anaconda3\\envs\\devProjet_Fraud\\lib\\site-packages\\werkzeug\\serving.py:1099\u001b[0m, in \u001b[0;36mrun_simple\u001b[1;34m(hostname, port, application, use_reloader, use_debugger, use_evalex, extra_files, exclude_patterns, reloader_interval, reloader_type, threaded, processes, request_handler, static_files, passthrough_errors, ssl_context)\u001b[0m\n\u001b[0;32m   1096\u001b[0m \u001b[38;5;28;01mfrom\u001b[39;00m \u001b[38;5;21;01m.\u001b[39;00m\u001b[38;5;21;01m_reloader\u001b[39;00m \u001b[38;5;28;01mimport\u001b[39;00m run_with_reloader\n\u001b[0;32m   1098\u001b[0m \u001b[38;5;28;01mtry\u001b[39;00m:\n\u001b[1;32m-> 1099\u001b[0m     \u001b[43mrun_with_reloader\u001b[49m\u001b[43m(\u001b[49m\n\u001b[0;32m   1100\u001b[0m \u001b[43m        \u001b[49m\u001b[43msrv\u001b[49m\u001b[38;5;241;43m.\u001b[39;49m\u001b[43mserve_forever\u001b[49m\u001b[43m,\u001b[49m\n\u001b[0;32m   1101\u001b[0m \u001b[43m        \u001b[49m\u001b[43mextra_files\u001b[49m\u001b[38;5;241;43m=\u001b[39;49m\u001b[43mextra_files\u001b[49m\u001b[43m,\u001b[49m\n\u001b[0;32m   1102\u001b[0m \u001b[43m        \u001b[49m\u001b[43mexclude_patterns\u001b[49m\u001b[38;5;241;43m=\u001b[39;49m\u001b[43mexclude_patterns\u001b[49m\u001b[43m,\u001b[49m\n\u001b[0;32m   1103\u001b[0m \u001b[43m        \u001b[49m\u001b[43minterval\u001b[49m\u001b[38;5;241;43m=\u001b[39;49m\u001b[43mreloader_interval\u001b[49m\u001b[43m,\u001b[49m\n\u001b[0;32m   1104\u001b[0m \u001b[43m        \u001b[49m\u001b[43mreloader_type\u001b[49m\u001b[38;5;241;43m=\u001b[39;49m\u001b[43mreloader_type\u001b[49m\u001b[43m,\u001b[49m\n\u001b[0;32m   1105\u001b[0m \u001b[43m    \u001b[49m\u001b[43m)\u001b[49m\n\u001b[0;32m   1106\u001b[0m \u001b[38;5;28;01mfinally\u001b[39;00m:\n\u001b[0;32m   1107\u001b[0m     srv\u001b[38;5;241m.\u001b[39mserver_close()\n",
      "File \u001b[1;32mc:\\Users\\Utilisateur2\\anaconda3\\envs\\devProjet_Fraud\\lib\\site-packages\\werkzeug\\_reloader.py:456\u001b[0m, in \u001b[0;36mrun_with_reloader\u001b[1;34m(main_func, extra_files, exclude_patterns, interval, reloader_type)\u001b[0m\n\u001b[0;32m    454\u001b[0m             reloader\u001b[38;5;241m.\u001b[39mrun()\n\u001b[0;32m    455\u001b[0m     \u001b[38;5;28;01melse\u001b[39;00m:\n\u001b[1;32m--> 456\u001b[0m         \u001b[43msys\u001b[49m\u001b[38;5;241;43m.\u001b[39;49m\u001b[43mexit\u001b[49m\u001b[43m(\u001b[49m\u001b[43mreloader\u001b[49m\u001b[38;5;241;43m.\u001b[39;49m\u001b[43mrestart_with_reloader\u001b[49m\u001b[43m(\u001b[49m\u001b[43m)\u001b[49m\u001b[43m)\u001b[49m\n\u001b[0;32m    457\u001b[0m \u001b[38;5;28;01mexcept\u001b[39;00m \u001b[38;5;167;01mKeyboardInterrupt\u001b[39;00m:\n\u001b[0;32m    458\u001b[0m     \u001b[38;5;28;01mpass\u001b[39;00m\n",
      "\u001b[1;31mSystemExit\u001b[0m: 1"
     ]
    }
   ],
   "source": [
    "%tb"
   ]
  }
 ],
 "metadata": {
  "kernelspec": {
   "display_name": "devProjet_Fraud",
   "language": "python",
   "name": "python3"
  },
  "language_info": {
   "codemirror_mode": {
    "name": "ipython",
    "version": 3
   },
   "file_extension": ".py",
   "mimetype": "text/x-python",
   "name": "python",
   "nbconvert_exporter": "python",
   "pygments_lexer": "ipython3",
   "version": "3.10.13"
  }
 },
 "nbformat": 4,
 "nbformat_minor": 2
}
