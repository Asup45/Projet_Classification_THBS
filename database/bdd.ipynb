{
 "cells": [
  {
   "cell_type": "code",
   "execution_count": 1,
   "metadata": {},
   "outputs": [
    {
     "name": "stdout",
     "output_type": "stream",
     "text": [
      "Note: you may need to restart the kernel to use updated packages.\n"
     ]
    },
    {
     "name": "stderr",
     "output_type": "stream",
     "text": [
      "ERROR: unknown command \"mysql-connector-python\"\n",
      "\n"
     ]
    }
   ],
   "source": [
    " pip mysql-connector-python"
   ]
  },
  {
   "cell_type": "code",
   "execution_count": 1,
   "metadata": {},
   "outputs": [
    {
     "ename": "ModuleNotFoundError",
     "evalue": "No module named 'mysql'",
     "output_type": "error",
     "traceback": [
      "\u001b[1;31m---------------------------------------------------------------------------\u001b[0m",
      "\u001b[1;31mModuleNotFoundError\u001b[0m                       Traceback (most recent call last)",
      "Cell \u001b[1;32mIn[1], line 3\u001b[0m\n\u001b[0;32m      1\u001b[0m \u001b[38;5;66;03m# creation au prealable de la base de donnée Projet_Fraude\u001b[39;00m\n\u001b[0;32m      2\u001b[0m \u001b[38;5;66;03m#DEBUT import des bibliotheques nécessaires\u001b[39;00m\n\u001b[1;32m----> 3\u001b[0m \u001b[38;5;28;01mimport\u001b[39;00m \u001b[38;5;21;01mmysql\u001b[39;00m\u001b[38;5;21;01m.\u001b[39;00m\u001b[38;5;21;01mconnector\u001b[39;00m \u001b[38;5;28;01mas\u001b[39;00m \u001b[38;5;21;01mmsql\u001b[39;00m\n\u001b[0;32m      4\u001b[0m \u001b[38;5;28;01mimport\u001b[39;00m \u001b[38;5;21;01mpandas\u001b[39;00m \u001b[38;5;28;01mas\u001b[39;00m \u001b[38;5;21;01mpd\u001b[39;00m\n\u001b[0;32m      5\u001b[0m \u001b[38;5;28;01mfrom\u001b[39;00m \u001b[38;5;21;01mmysql\u001b[39;00m\u001b[38;5;21;01m.\u001b[39;00m\u001b[38;5;21;01mconnector\u001b[39;00m \u001b[38;5;28;01mimport\u001b[39;00m Error\n",
      "\u001b[1;31mModuleNotFoundError\u001b[0m: No module named 'mysql'"
     ]
    }
   ],
   "source": [
    "# creation au prealable de la base de donnée Projet_Fraude\n",
    "#DEBUT import des bibliotheques nécessaires\n",
    "import mysql.connector as msql\n",
    "import pandas as pd\n",
    "from mysql.connector import Error\n",
    "#FIN import des bibliotheques nécessaires\n"
   ]
  },
  {
   "cell_type": "code",
   "execution_count": null,
   "metadata": {},
   "outputs": [],
   "source": [
    "#DEBUT variable\n",
    "msg=\"Problème de connexion MySQL\"\n",
    "#FIN variable\n",
    "\n",
    "#DEBUT Creation bdd Projet_Fraude\n",
    "try:\n",
    "    conn = msql.connect(host='localhost', user='root', password='admin')\n",
    "    if conn.is_connected():\n",
    "        cursor = conn.cursor()\n",
    "        #record = cursor.fetchone()\n",
    "        print(\"Vous êtes  sur MYSQL\")\n",
    "        cursor.execute('DROP DATABASE IF EXISTS Projet_Fraude;')\n",
    "        cursor.execute(\"CREATE DATABASE Projet_Fraude\")\n",
    "        print(\"la base projet_Fraude est créee\")\n",
    "    cursor.close\n",
    "    conn.close     \n",
    "except Error as e:\n",
    "    print(msg, e)\n",
    "#FIN Creation bdd Projet_Fraude\n",
    "    \n",
    "\n",
    "#DEBUT Creation structure des tables  Typepaiment et Transaction_Fraud\n",
    "try:\n",
    "    conn = msql.connect(host='localhost', database='Projet_Fraude', user='root', password='admin')\n",
    "    if conn.is_connected():\n",
    "        cursor = conn.cursor()\n",
    "        cursor.execute(\"select database();\")\n",
    "        record = cursor.fetchone()\n",
    "        print(\"Vous êtes connecté à la base: \", record)\n",
    "\n",
    "        cursor.execute('DROP TABLE IF EXISTS Typepaiment;')\n",
    "        print('Création de la table en cours....')\n",
    "        cursor.execute(\"CREATE TABLE Typepaiment(typeID INT, Libelle VARCHAR(150), PRIMARY KEY(typeID))\")\n",
    "        print(\"La table Typepaiment est crée....\")\n",
    "        cursor.execute('DROP TABLE IF EXISTS Transaction_Fraud;')\n",
    "        print('Création de la table en cours....')\n",
    "        cursor.execute(\"CREATE TABLE Transaction_Fraud (transactionID INT,step INT,amount INT,NameOrig VARCHAR(150),oldbalanceOrg DOUBLE,newbalanceOrig DOUBLE,nameDest VARCHAR(150),oldbalanceDest DOUBLE,newbalanceDest DOUBLE,IsFraud INT,typeID INT NOT NULL,PRIMARY KEY(transactionID),FOREIGN KEY(typeID) REFERENCES Typepaiment(typeID))\")\n",
    "        print(\"La table Transaction_Fraud est crée....\")\n",
    "except Error as e:\n",
    "    print(msg, e)\n",
    "#FIN Creation structure des tables Typepaiment et Transaction_Fraud\n",
    "\n",
    "\n",
    "print(\"La base de données a été créée avec succès.\")\n"
   ]
  }
 ],
 "metadata": {
  "kernelspec": {
   "display_name": "devProjetClassif",
   "language": "python",
   "name": "python3"
  },
  "language_info": {
   "codemirror_mode": {
    "name": "ipython",
    "version": 3
   },
   "file_extension": ".py",
   "mimetype": "text/x-python",
   "name": "python",
   "nbconvert_exporter": "python",
   "pygments_lexer": "ipython3",
   "version": "3.10.13"
  }
 },
 "nbformat": 4,
 "nbformat_minor": 2
}
