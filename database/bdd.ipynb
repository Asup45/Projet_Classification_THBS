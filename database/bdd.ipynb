{
 "cells": [
  {
   "cell_type": "code",
   "execution_count": null,
   "metadata": {},
   "outputs": [],
   "source": [
    "#pip install mysql-connector-python"
   ]
  },
  {
   "cell_type": "code",
   "execution_count": null,
   "metadata": {},
   "outputs": [],
   "source": [
    "#pip install pandas"
   ]
  },
  {
   "cell_type": "code",
   "execution_count": null,
   "metadata": {},
   "outputs": [],
   "source": [
    "#DEBUT import des bibliotheques nécessaires\n",
    "import mysql.connector as msql\n",
    "import pandas as pd\n",
    "from mysql.connector import Error\n",
    "#FIN import des bibliotheques nécessaires"
   ]
  },
  {
   "cell_type": "code",
   "execution_count": null,
   "metadata": {},
   "outputs": [],
   "source": [
    "# Demander la valeur de xroot à l'utilisateur pour la connexion à la bd\n",
    "xroot = input(\"Entrez le user pour la connexion BD : \")\n",
    "# Demander la valeur de xpass à l'utilisateur\n",
    "xpass = input(\"Entrez le mot de pass : \")\n",
    "msg=\"Problème de connexion MySQL\"\n"
   ]
  },
  {
   "cell_type": "code",
   "execution_count": null,
   "metadata": {},
   "outputs": [],
   "source": [
    "#DEBUT Creation bdd Projet_Fraude\n",
    "try:\n",
    "    conn = msql.connect(host='localhost', user=xroot, password=xpass)\n",
    "    if conn.is_connected():\n",
    "        cursor = conn.cursor()\n",
    "        print(\"Vous êtes  sur MYSQL\")\n",
    "        cursor.execute('DROP DATABASE IF EXISTS projet_fraudedb;')\n",
    "        cursor.execute(\"CREATE DATABASE projet_fraudedb\")\n",
    "        print(\"la base projet_Fraude est créee\")\n",
    "        cursor.execute(\"USE projet_fraudedb\")\n",
    "        cursor.execute(\"select database();\")\n",
    "        record = cursor.fetchone()\n",
    "        print(\"Vous êtes connecté à la base: \", record)\n",
    " \n",
    "except Error as e:\n",
    "    print(msg, e)\n",
    "#FIN Creation bdd Projet_Fraude\n",
    "    \n",
    "\n",
    "\n"
   ]
  },
  {
   "cell_type": "code",
   "execution_count": null,
   "metadata": {},
   "outputs": [],
   "source": [
    "#DEBUT Creation structure des tables  Typepaiment et Transaction_Fraud\n",
    "try:    \n",
    "    cursor.execute('DROP TABLE IF EXISTS credit_card_fraud_corr;')\n",
    "    cursor.execute('DROP TABLE IF EXISTS transaction_fraude;') #suppression dans cette ordre car clef etrangere\n",
    "    cursor.execute('DROP TABLE IF EXISTS typepaiment;')\n",
    "\n",
    "    print('Création de la table credit_card_fraud_corr en cours....')\n",
    "    cursor.execute(\"CREATE TABLE credit_card_fraud_corr (transactionID INT, step INT, type VARCHAR(50),amount FLOAT,NameOrig VARCHAR(150),oldbalanceOrg FLOAT,newbalanceOrig FLOAT,nameDest VARCHAR(150),oldbalanceDest FLOAT,newbalanceDest FLOAT,IsFraud INT)\")\n",
    "    print(\"La table credit_card_fraud_corr est crée....\")\n",
    "\n",
    "    print('Création de la table typepaiment en cours....') #creer la table typepaiment en premier car clef etrangere référencé dans transaction_fraude\n",
    "    cursor.execute(\"CREATE TABLE typepaiment(typeID INT, Libelle VARCHAR(150), PRIMARY KEY(typeID))\")\n",
    "    print(\"La table typepaiment est crée....\")\n",
    "\n",
    "    print('Création de la table transaction_fraude en cours....')\n",
    "    cursor.execute(\"CREATE TABLE transaction_fraude (transactionID INT,step INT,amount FLOAT,NameOrig VARCHAR(150),oldbalanceOrg FLOAT,newbalanceOrig FLOAT,nameDest VARCHAR(150),oldbalanceDest FLOAT,newbalanceDest FLOAT,IsFraud INT,typeID INT NOT NULL,PRIMARY KEY(transactionID),FOREIGN KEY(typeID) REFERENCES typepaiment(typeID))\")\n",
    "    print(\"La table transaction_fraude est crée....\")\n",
    "\n",
    "except Error as e:\n",
    "    print(msg, e)\n",
    "#FIN Creation structure des tables Typepaiment et Transaction_Fraud\n"
   ]
  },
  {
   "cell_type": "code",
   "execution_count": null,
   "metadata": {},
   "outputs": [],
   "source": [
    "#DEBUT chargement de credit_card_fraud_corr.csv dans la table credit_card_fraud_corr\n",
    "\n",
    "# Importe en fonction du nombre de ligne à traiter xlignecsv (exemple saisir la valeur pour les 10 premieres lignes du csv ou  ssaisir 0 pour tous le fichier) et parametre nrows \n",
    "# l'utilité de saisir le nombre de ligne permet de tester la creation de la bdd sur un nombrre restreint en cas de prb \n",
    "xlignecsv = input(\"Combien de lignes à traiter à partir du fichier csv ? (saisir 0 pour tout le fichier csv):\")\n",
    "if xlignecsv==0:\n",
    "    print(\"Vous allez traiter tout le fichier\")\n",
    "    transactionData = pd.read_csv('credit_card_fraud_corr.csv', index_col=False, delimiter=';')\n",
    "else:\n",
    "    print(\"Vous allez traiter \",xlignecsv,\" lignes\")\n",
    "    transactionData = pd.read_csv('credit_card_fraud_corr.csv', index_col=False, delimiter=';', nrows=int(xlignecsv))\n",
    "    \n",
    "#pretraitement\n",
    "#remplace , par . pour les nombres\n",
    "transactionData['amount'] = transactionData['amount'].replace(',', '.', regex=True).astype(float)\n",
    "transactionData['oldbalanceOrg'] = transactionData['oldbalanceOrg'].replace(',', '.', regex=True).astype(float)\n",
    "transactionData['newbalanceOrig'] = transactionData['newbalanceOrig'].replace(',', '.', regex=True).astype(float)\n",
    "transactionData['oldbalanceDest'] = transactionData['oldbalanceDest'].replace(',', '.', regex=True).astype(float)\n",
    "transactionData['newbalanceDest'] = transactionData['newbalanceDest'].replace(',', '.', regex=True).astype(float)\n",
    "\n",
    "# Remplacer les lettres 'c' dans la colonne 'nameOrig' par '1'\n",
    "transactionData['nameOrig'] = transactionData['nameOrig'].str.replace('C', '1')\n",
    "\n",
    "# Remplacer les lettres 'c' dans la colonne 'nameDest' par '1'\n",
    "transactionData['nameDest'] = transactionData['nameDest'].str.replace('C', '1')\n",
    "\n",
    "# Remplacer les lettres 'm' dans la colonne 'nameDest' par '2'\n",
    "transactionData['nameDest'] = transactionData['nameDest'].str.replace('M', '2')\n",
    "\n",
    "# Afficher les premières lignes du DataFrame pour vérifier les modifications\n",
    "transactionData.head(10)"
   ]
  },
  {
   "cell_type": "code",
   "execution_count": null,
   "metadata": {},
   "outputs": [],
   "source": [
    "try:\n",
    "    #alimente la table credit_card_fraud_corr  à partir du dataframe\n",
    "    for i,row in transactionData.iterrows():                     \n",
    "        sql = \"INSERT INTO projet_fraudedb.credit_card_fraud_corr VALUES (%s,%s,%s,%s,%s,%s,%s,%s,%s,%s,%s)\"\n",
    "        cursor.execute(sql, tuple(row))\n",
    "    conn.commit()\n",
    "    print(\"les lignes de la dataframe (credit_card_fraud_corr.csv) ont été insérées dans la table credit_card_fraud_corr\")\n",
    "\n",
    "    #affiche les 5 premieres ligne de la table credit_card_fraud_corr \n",
    "    cursor.execute(\"select * from projet_fraudedb.credit_card_fraud_corr limit 5\")\n",
    "    result=cursor.fetchall()\n",
    "    print(\"Affichage des 5 premières lignes de la table credit_card_fraud_corr: \")\n",
    "    for i in result:\n",
    "        print(result)\n",
    "  \n",
    "except Error as e:\n",
    "    print(msg, e)\n",
    "#FIN chargement de credit_card_fraud_corr.csv dans la table credit_card_fraud_corr"
   ]
  },
  {
   "cell_type": "code",
   "execution_count": null,
   "metadata": {},
   "outputs": [],
   "source": [
    "# DEBUT insertion des types de paiement dans la table typepaiment\n",
    "try:\n",
    "    cursor.execute(\"delete from typepaiment\")\n",
    "    cursor.execute(\"INSERT INTO typepaiment (typeID, Libelle) VALUES (1 , 'PAYMENT')\")\n",
    "    cursor.execute(\"INSERT INTO typepaiment (typeID, Libelle) VALUES (2 , 'TRANSFER')\")\n",
    "    cursor.execute(\"INSERT INTO typepaiment (typeID, Libelle) VALUES (3 , 'CASH_OUT')\")\n",
    "    cursor.execute(\"INSERT INTO typepaiment (typeID, Libelle) VALUES (4 , 'CASH_IN')\")\n",
    "    cursor.execute(\"INSERT INTO typepaiment (typeID, Libelle) VALUES (5 , 'DEBIT')\")\n",
    "    conn.commit()\n",
    "    print(\"Les différents types de paiement ont été integré dans la table typepaiment\")\n",
    "\n",
    "except Error as e:\n",
    "    print(msg, e)\n",
    "#FIN insertion des types de paiement dans la table typepaiment"
   ]
  },
  {
   "cell_type": "code",
   "execution_count": null,
   "metadata": {},
   "outputs": [],
   "source": [
    "#DEBUT alimentation de la transaction_fraude à partir de credit_card_fraud_corr et typepaiment\n",
    "try:        \n",
    "    # Récupération des données de la table credit_card_fraud_corr\n",
    "    cursor.execute(\"SELECT * FROM credit_card_fraud_corr\")\n",
    "    transactions = cursor.fetchall()\n",
    "\n",
    "    # Récupération des données de la table typepaiment\n",
    "    cursor.execute(\"SELECT * FROM typepaiment\")\n",
    "    types_paiement = cursor.fetchall()\n",
    "\n",
    "    # Parcours des transactions et insertion dans la table transaction_fraude\n",
    "    for transaction in transactions:\n",
    "        for type_paiement in types_paiement:\n",
    "            if transaction[2] == type_paiement[1]:  # Vérification du type de paiement\n",
    "                # Insertion de la transaction avec le type de paiement correspondant\n",
    "                cursor.execute(\"INSERT INTO transaction_fraude (transactionID, step, amount, NameOrig, oldbalanceOrg, newbalanceOrig, nameDest, oldbalanceDest, newbalanceDest, IsFraud, typeID) VALUES (%s,%s,%s,%s,%s,%s,%s,%s,%s,%s,%s)\",\n",
    "                                (transaction[0], transaction[1], transaction[3], transaction[4], transaction[5], transaction[6], transaction[7], transaction[8], transaction[9], transaction[10], type_paiement[0]))\n",
    "                conn.commit()\n",
    "                break  # Sortir de la boucle une fois que le type de paiement correspondant est trouvé\n",
    "\n",
    "    print(\"Les données ont été insérées dans la table transaction_fraude.\")\n",
    "\n",
    "except Error as e:\n",
    "    print(msg, e)\n",
    "\n",
    "finally:\n",
    "    # Fermeture de la connexion\n",
    "    if conn.is_connected():\n",
    "        cursor.close()\n",
    "        conn.close()\n",
    "        print(\"Connexion à la base de données fermée.\")\n",
    "\n"
   ]
  },
  {
   "cell_type": "code",
   "execution_count": null,
   "metadata": {},
   "outputs": [],
   "source": []
  }
 ],
 "metadata": {
  "kernelspec": {
   "display_name": "Python 3 (ipykernel)",
   "language": "python",
   "name": "python3"
  },
  "language_info": {
   "codemirror_mode": {
    "name": "ipython",
    "version": 3
   },
   "file_extension": ".py",
   "mimetype": "text/x-python",
   "name": "python",
   "nbconvert_exporter": "python",
   "pygments_lexer": "ipython3",
   "version": "3.10.13"
  }
 },
 "nbformat": 4,
 "nbformat_minor": 4
}
