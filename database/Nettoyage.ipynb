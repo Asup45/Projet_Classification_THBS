{
 "cells": [
  {
   "cell_type": "code",
   "execution_count": null,
   "id": "e7e89743-f726-43ac-9169-e6f91b8b4478",
   "metadata": {},
   "outputs": [],
   "source": [
    "# Ce programme va permettre de remplacer le premier caractère par un chiffre: c = 1 / m = 2 :\n",
    "\n"
   ]
  }
 ],
 "metadata": {
  "kernelspec": {
   "display_name": "Python 3 (ipykernel)",
   "language": "python",
   "name": "python3"
  },
  "language_info": {
   "codemirror_mode": {
    "name": "ipython",
    "version": 3
   },
   "file_extension": ".py",
   "mimetype": "text/x-python",
   "name": "python",
   "nbconvert_exporter": "python",
   "pygments_lexer": "ipython3",
   "version": "3.11.7"
  }
 },
 "nbformat": 4,
 "nbformat_minor": 5
}
