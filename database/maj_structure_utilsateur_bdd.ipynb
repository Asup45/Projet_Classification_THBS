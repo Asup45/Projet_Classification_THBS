{
 "cells": [
  {
   "cell_type": "code",
   "execution_count": null,
   "metadata": {},
   "outputs": [],
   "source": [
    "# maj de la structure de la bdd pour prendre en compte le côté client"
   ]
  },
  {
   "cell_type": "code",
   "execution_count": 1,
   "metadata": {},
   "outputs": [],
   "source": [
    "#DEBUT import des bibliotheques nécessaires\n",
    "import mysql.connector as msql\n",
    "from mysql.connector import Error\n",
    "#FIN import des bibliotheques nécessaires"
   ]
  },
  {
   "cell_type": "code",
   "execution_count": 2,
   "metadata": {},
   "outputs": [],
   "source": [
    "# Codes ANSI pour les couleurs du texte\n",
    "RESET = \"\\033[0m\"\n",
    "YELLOW = \"\\033[93m\"\n"
   ]
  },
  {
   "cell_type": "code",
   "execution_count": 3,
   "metadata": {},
   "outputs": [],
   "source": [
    "# Demander la valeur de xroot à l'utilisateur pour la connexion à la bd\n",
    "xroot = input(\"Entrez le user pour la connexion BD : \")\n",
    "# Demander la valeur de xpass à l'utilisateur\n",
    "xpass = input(\"Entrez le mot de pass : \")\n",
    "msg=\"Problème de connexion MySQL\"\n"
   ]
  },
  {
   "cell_type": "code",
   "execution_count": 4,
   "metadata": {},
   "outputs": [
    {
     "name": "stdout",
     "output_type": "stream",
     "text": [
      "Vous êtes  sur MYSQL\n",
      "Vous êtes connecté à la base:  ('projet_fraudedb',)\n",
      "\u001b[93m\n",
      "Création de la table transactions_utilisateur en cours....\n",
      "La table transactions_utilisateur est crée....\n",
      "Création de la table utilisateur en cours....\n",
      "La table utilisateur est crée....\n",
      "MAJ OK\n",
      "\u001b[0m\n",
      "Connexion à la base de données fermée.\n"
     ]
    }
   ],
   "source": [
    "#DEBUT maj  selon schema MCD\n",
    "try:\n",
    "    conn = msql.connect(host='localhost', user=xroot, password=xpass)\n",
    "    if conn.is_connected():\n",
    "        cursor = conn.cursor()\n",
    "        print(\"Vous êtes  sur MYSQL\")\n",
    "        cursor.execute(\"USE projet_fraudedb\")\n",
    "        cursor.execute(\"select database();\")\n",
    "        record = cursor.fetchone()\n",
    "        print(\"Vous êtes connecté à la base: \", record)\n",
    "        cursor.execute('DROP TABLE IF EXISTS utilisateur;')\n",
    "        cursor.execute('DROP TABLE IF EXISTS transactions_utilisateur;')\n",
    "        print(f\"{YELLOW}\")\n",
    "        print('Création de la table transactions_utilisateur en cours....')\n",
    "        cursor.execute(\"CREATE TABLE transactions_utilisateur (transactionuID INT,step INT,amount FLOAT,NameOrig VARCHAR(150),oldbalanceOrg FLOAT,newbalanceOrig FLOAT,nameDest VARCHAR(150),oldbalanceDest FLOAT,newbalanceDest FLOAT,IsFraud INT,typeID INT NOT NULL,PRIMARY KEY(transactionuID))\")\n",
    "        print(\"La table transactions_utilisateur est crée....\")\n",
    "        print('Création de la table utilisateur en cours....') #creer la table utilisateur\n",
    "        cursor.execute(\"CREATE TABLE utilisateur(email VARCHAR(50), pass VARCHAR(150), role VARCHAR(150), PRIMARY KEY(email))\")\n",
    "        print(\"La table utilisateur est crée....\")    \n",
    "    print(\"MAJ OK\")\n",
    "    print(f\"{RESET}\")\n",
    "except Error as e:\n",
    "    print(msg, e)\n",
    "\n",
    "finally:\n",
    "    # Fermeture de la connexion\n",
    "    if conn.is_connected():\n",
    "        cursor.close()\n",
    "        conn.close()\n",
    "        print(\"Connexion à la base de données fermée.\")\n",
    "\n",
    "#FIN maj"
   ]
  }
 ],
 "metadata": {
  "kernelspec": {
   "display_name": "devProjet_Fraud",
   "language": "python",
   "name": "python3"
  },
  "language_info": {
   "codemirror_mode": {
    "name": "ipython",
    "version": 3
   },
   "file_extension": ".py",
   "mimetype": "text/x-python",
   "name": "python",
   "nbconvert_exporter": "python",
   "pygments_lexer": "ipython3",
   "version": "3.10.0"
  }
 },
 "nbformat": 4,
 "nbformat_minor": 2
}
