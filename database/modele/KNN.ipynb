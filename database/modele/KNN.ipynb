{
 "cells": [
  {
   "cell_type": "code",
   "execution_count": null,
   "metadata": {},
   "outputs": [],
   "source": [
    "import pandas as pd\n",
    "import numpy as np\n",
    "\n",
    "import matplotlib.pyplot as plt\n",
    "\n",
    "from imblearn.over_sampling import SMOTE\n",
    "from sklearn.neighbors import KNeighborsClassifier\n",
    "from sklearn.model_selection import train_test_split\n",
    "from sklearn.metrics import accuracy_score, classification_report\n",
    "\n",
    "import pickle\n",
    "\n",
    "transactions = pd.read_csv('../database/transactions.csv')"
   ]
  },
  {
   "cell_type": "code",
   "execution_count": null,
   "metadata": {},
   "outputs": [],
   "source": [
    "def m_accuracy(model, X, y):\n",
    "    '''\n",
    "    returns: the accuracy of the given model, on the digits dataset\n",
    "    '''\n",
    "    \n",
    "    X_train, X_test, y_train, y_test = train_test_split(X, y, test_size=0.05)\n",
    "    clf = model\n",
    "    clf.fit(X_train, y_train)\n",
    "    return clf.score(X_test,y_test)\n",
    "\n",
    "def m_accuracy_mv(model, X, y, N:int):\n",
    "    '''\n",
    "    returns: the tupple (mean, std_var)\n",
    "    '''\n",
    "\n",
    "    accuracies = [ m_accuracy(model, X, y) for i in range(N) ]\n",
    "    return (np.mean(accuracies), np.std(accuracies))\n",
    "\n",
    "def norm2float(df:pd.DataFrame, cols:list):\n",
    "    for col in cols:\n",
    "        df[col] = df[col].str.replace(',', '.').astype(float)\n",
    "        \n",
    "    return df"
   ]
  },
  {
   "cell_type": "code",
   "execution_count": null,
   "metadata": {},
   "outputs": [],
   "source": [
    "# Data Normalization\n",
    "transactions[['type']] = transactions[['type']].replace(['CASH_IN', 'CASH_OUT', 'DEBIT', 'PAYMENT', 'TRANSFER'], [0, 1, 2, 3, 4])\n",
    "transactions = transactions.drop(columns=['transactionId', 'nameOrig', 'nameDest'])\n",
    "transactions = norm2float(transactions, ['amount', 'oldbalanceOrg', 'newbalanceOrig', 'oldbalanceDest', 'newbalanceDest'])\n",
    "transactions.head(10)"
   ]
  },
  {
   "cell_type": "code",
   "execution_count": null,
   "metadata": {},
   "outputs": [],
   "source": [
    "X = transactions.drop(columns=['isFraud'])\n",
    "y = transactions['isFraud']\n",
    "smote = SMOTE(random_state=42)\n",
    "\n",
    "# Split the data into training and testing sets\n",
    "X_train, X_test, y_train, y_test = train_test_split(X, y, test_size=0.2, random_state=42)\n",
    "X_train_resampled, y_train_resampled = smote.fit_resample(X_train, y_train)"
   ]
  },
  {
   "cell_type": "code",
   "execution_count": null,
   "metadata": {},
   "outputs": [],
   "source": [
    "# Model training and testing\n",
    "N = 10\n",
    "df = pd.DataFrame(data=[], columns=['n_neighbors', 'accuracy', 'smote_accuracy'])\n",
    "\n",
    "for i in range(2, N):\n",
    "    clf = KNeighborsClassifier(n_neighbors=i)\n",
    "    smote_clf = KNeighborsClassifier(n_neighbors=i)\n",
    "    \n",
    "    clf.fit(X_train, y_train)\n",
    "    smote_clf.fit(X_train_resampled, y_train_resampled)\n",
    "\n",
    "    df.loc[len(df)] = [int(i), clf.score(X_test, y_test), smote_clf.score(X_test, y_test)]\n",
    "\n",
    "df.head(15)"
   ]
  },
  {
   "cell_type": "code",
   "execution_count": null,
   "metadata": {},
   "outputs": [],
   "source": [
    "plt.plot(df['n_neighbors'], df['accuracy'], color='blue')\n",
    "plt.plot(df['n_neighbors'], df['smote_accuracy'], color='red')\n",
    "plt.show()"
   ]
  },
  {
   "cell_type": "code",
   "execution_count": null,
   "metadata": {},
   "outputs": [],
   "source": [
    "knn_clf = KNeighborsClassifier(n_neighbors=4)\n",
    "knn_clf.fit(X_train, y_train)\n",
    "\n",
    "pickle.dump(knn_clf, open('./KNN.pkl', 'wb'))"
   ]
  }
 ],
 "metadata": {
  "kernelspec": {
   "display_name": "py380",
   "language": "python",
   "name": "python3"
  },
  "language_info": {
   "codemirror_mode": {
    "name": "ipython",
    "version": 3
   },
   "file_extension": ".py",
   "mimetype": "text/x-python",
   "name": "python",
   "nbconvert_exporter": "python",
   "pygments_lexer": "ipython3",
   "version": "3.8.0"
  }
 },
 "nbformat": 4,
 "nbformat_minor": 2
}
