{
 "cells": [
  {
   "cell_type": "code",
   "execution_count": 11,
   "metadata": {},
   "outputs": [],
   "source": [
    "import mysql.connector"
   ]
  },
  {
   "cell_type": "code",
   "execution_count": 13,
   "metadata": {},
   "outputs": [],
   "source": [
    "# Configuration de la connexion à MySQL\n",
    "config_bdd = {\n",
    "    'host': 'localhost',\n",
    "    'user': 'root',\n",
    "    'password': 'admin',\n",
    "    'database': 'projet_fraudedb'\n",
    "}\n",
    "\n",
    "# Script SQL à exécuter\n",
    "script_sql = \"\"\"\n",
    "USE projet_fraudedb;\n",
    "DROP TEMPORARY TABLE IF EXISTS projet_fraudedb.temp_selected_records;\n",
    "CREATE TEMPORARY TABLE temp_selected_records AS (\n",
    "    SELECT * FROM projet_fraudedb.transaction_fraude\n",
    "    ORDER BY rand()\n",
    "    LIMIT 100\n",
    ");\n",
    "UPDATE projet_fraudedb.temp_selected_records\n",
    "SET IsFraud = null  WHERE IsFraud=1;\n",
    "UPDATE projet_fraudedb.temp_selected_records\n",
    "SET IsFraud = null  WHERE IsFraud=0;\n",
    "INSERT INTO projet_fraudedb.transactions_utilisateur\n",
    "SELECT * FROM projet_fraudedb.temp_selected_records;\n",
    "DROP TEMPORARY TABLE IF EXISTS projet_fraudedb.temp_selected_records;\n",
    "\"\"\""
   ]
  },
  {
   "cell_type": "code",
   "execution_count": 14,
   "metadata": {},
   "outputs": [],
   "source": [
    "# Fonction pour exécuter le script SQL\n",
    "def executer_script_sql(conn, script):\n",
    "    cursor = conn.cursor()\n",
    "    try:\n",
    "        # Diviser le script en commandes individuelles\n",
    "        commands = [command.strip() for command in script.split(';') if command.strip()]\n",
    "        \n",
    "        # Exécuter chaque commande séparément\n",
    "        for command in commands:\n",
    "            cursor.execute(command)\n",
    "        \n",
    "        conn.commit()\n",
    "        print(\"Script SQL exécuté avec succès.\")\n",
    "    except mysql.connector.Error as err:\n",
    "        print(f\"Erreur d'exécution du script SQL : {err}\")\n",
    "    finally:\n",
    "        cursor.close()"
   ]
  },
  {
   "cell_type": "code",
   "execution_count": 17,
   "metadata": {},
   "outputs": [],
   "source": [
    "import subprocess"
   ]
  },
  {
   "cell_type": "code",
   "execution_count": 15,
   "metadata": {},
   "outputs": [],
   "source": [
    "# Connexion à la base de données\n",
    "\n",
    "connexion_bdd = mysql.connector.connect(**config_bdd)"
   ]
  },
  {
   "cell_type": "code",
   "execution_count": 16,
   "metadata": {},
   "outputs": [
    {
     "name": "stdout",
     "output_type": "stream",
     "text": [
      "Script SQL exécuté avec succès.\n"
     ]
    }
   ],
   "source": [
    "executer_script_sql(connexion_bdd, script_sql)"
   ]
  }
 ],
 "metadata": {
  "kernelspec": {
   "display_name": "devProjet_Fraud",
   "language": "python",
   "name": "python3"
  },
  "language_info": {
   "codemirror_mode": {
    "name": "ipython",
    "version": 3
   },
   "file_extension": ".py",
   "mimetype": "text/x-python",
   "name": "python",
   "nbconvert_exporter": "python",
   "pygments_lexer": "ipython3",
   "version": "3.10.13"
  }
 },
 "nbformat": 4,
 "nbformat_minor": 2
}
