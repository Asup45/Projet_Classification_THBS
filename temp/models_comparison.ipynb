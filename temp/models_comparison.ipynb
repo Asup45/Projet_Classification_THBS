{
 "cells": [
  {
   "cell_type": "code",
   "execution_count": null,
   "metadata": {},
   "outputs": [],
   "source": [
    "from datainit import *\n",
    "from helpers import *\n",
    "\n",
    "import matplotlib.pyplot as plt\n",
    "import seaborn as sns\n",
    "\n",
    "from sklearn.neighbors import KNeighborsClassifier\n",
    "from sklearn.ensemble import RandomForestClassifier\n",
    "from xgboost import XGBClassifier\n",
    "\n",
    "import pickle"
   ]
  },
  {
   "cell_type": "code",
   "execution_count": null,
   "metadata": {},
   "outputs": [],
   "source": [
    "# Models init\n",
    "knn = pickle.load(open('../database/modele/KNN.pkl', 'rb'))\n",
    "xgb = pickle.load(open('../database/modele/XGBmodel.pkl', 'rb'))\n",
    "random_forest = pickle.load(open('../database/modele/RandomForest.pkl', 'rb'))"
   ]
  },
  {
   "cell_type": "code",
   "execution_count": null,
   "metadata": {},
   "outputs": [],
   "source": [
    "df = pd.DataFrame(data=[], columns=['model', 'accuracy', 'recall', 'precision', 'f1_score', 'AUC'])\n",
    "df.loc[len(df)] = calc_metrics('knn', knn)\n",
    "df.loc[len(df)] = calc_metrics('xgboost', xgb)\n",
    "df.loc[len(df)] = calc_metrics('random_forest', random_forest)\n",
    "df"
   ]
  },
  {
   "cell_type": "code",
   "execution_count": null,
   "metadata": {},
   "outputs": [],
   "source": [
    "df_long = df.melt(id_vars='model', var_name='metric', value_name='value')\n",
    "df_long"
   ]
  },
  {
   "cell_type": "code",
   "execution_count": null,
   "metadata": {},
   "outputs": [],
   "source": [
    "sns.lineplot(data=df_long, x='metric', y='value', hue='model', marker='o', markersize=8)"
   ]
  }
 ],
 "metadata": {
  "kernelspec": {
   "display_name": "py380",
   "language": "python",
   "name": "python3"
  },
  "language_info": {
   "codemirror_mode": {
    "name": "ipython",
    "version": 3
   },
   "file_extension": ".py",
   "mimetype": "text/x-python",
   "name": "python",
   "nbconvert_exporter": "python",
   "pygments_lexer": "ipython3",
   "version": "3.11.7"
  }
 },
 "nbformat": 4,
 "nbformat_minor": 2
}
